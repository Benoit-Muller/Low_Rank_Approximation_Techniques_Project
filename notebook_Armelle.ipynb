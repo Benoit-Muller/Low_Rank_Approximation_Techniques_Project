{
 "cells": [
  {
   "cell_type": "code",
   "execution_count": 1,
   "id": "0fb1b20d",
   "metadata": {},
   "outputs": [],
   "source": [
    "import numpy as np\n",
    "import matplotlib.pyplot as plt\n",
    "from PIL import Image\n",
    "import time\n",
    "%matplotlib inline\n",
    "%load_ext autoreload\n",
    "%autoreload 2\n",
    "\n",
    "from sklearn.decomposition import TruncatedSVD\n",
    "from sinkhorn import sinkhorn\n",
    "from builders import image2array, array2cost, image2array, transfer_color, array2image"
   ]
  },
  {
   "cell_type": "markdown",
   "id": "d98089f4",
   "metadata": {},
   "source": [
    "### Understanding how the truncated svd in scikitlearn works"
   ]
  },
  {
   "cell_type": "code",
   "execution_count": 2,
   "id": "eb0b90e8",
   "metadata": {},
   "outputs": [],
   "source": [
    "X=np.random.rand(5,6)*100\n",
    "X=np.round(X,0)"
   ]
  },
  {
   "cell_type": "code",
   "execution_count": 3,
   "id": "f59343d9",
   "metadata": {},
   "outputs": [
    {
     "data": {
      "text/plain": [
       "array([[41., 59., 48., 67., 31., 78.],\n",
       "       [22., 46., 25., 46., 68., 78.],\n",
       "       [72.,  0., 54., 68., 83., 11.],\n",
       "       [27., 60., 54., 99., 72., 39.],\n",
       "       [70., 41., 66., 97., 37., 84.]])"
      ]
     },
     "execution_count": 3,
     "metadata": {},
     "output_type": "execute_result"
    }
   ],
   "source": [
    "X"
   ]
  },
  {
   "cell_type": "code",
   "execution_count": 8,
   "id": "5d63ff6c",
   "metadata": {},
   "outputs": [],
   "source": [
    "svd=TruncatedSVD(2) #choosing the rank r of the approximation, here a rank 3 approximation\n",
    "US=svd.fit_transform(X)\n",
    "V=svd.components_"
   ]
  },
  {
   "cell_type": "code",
   "execution_count": 9,
   "id": "78a5f904",
   "metadata": {},
   "outputs": [
    {
     "data": {
      "text/plain": [
       "array([[32.81, 56.62, 42.87, 69.79, 38.52, 79.75],\n",
       "       [30.92, 47.45, 38.76, 62.36, 36.52, 66.79],\n",
       "       [65.13,  3.95, 54.99, 76.01, 80.5 ,  4.69],\n",
       "       [53.02, 41.35, 55.36, 83.87, 64.12, 57.85],\n",
       "       [51.9 , 55.73, 58.42, 90.89, 62.19, 78.23]])"
      ]
     },
     "execution_count": 9,
     "metadata": {},
     "output_type": "execute_result"
    }
   ],
   "source": [
    "np.round(US@V,2) #approximation of X"
   ]
  },
  {
   "cell_type": "code",
   "execution_count": 14,
   "id": "ad5eb63a",
   "metadata": {},
   "outputs": [],
   "source": [
    "u=np.array([[1,2,3,4,10]]).T\n",
    "v=np.array([[5,5,5,6,6,6]]).T"
   ]
  },
  {
   "cell_type": "code",
   "execution_count": 16,
   "id": "cf2529ab",
   "metadata": {},
   "outputs": [
    {
     "name": "stdout",
     "output_type": "stream",
     "text": [
      "0.0005390644073486328\n",
      "0.0\n",
      "0.0005831718444824219\n"
     ]
    }
   ],
   "source": [
    "start=time.time()\n",
    "u*(US@V)*v.T\n",
    "execution_time=time.time()-start\n",
    "print(execution_time)\n",
    "\n",
    "start=time.time()\n",
    "(u*US)@(V*v.T)\n",
    "execution_time=time.time()-start\n",
    "print(execution_time)\n",
    "\n",
    "start=time.time()\n",
    "u*(US@(V*v.T))\n",
    "execution_time=time.time()-start\n",
    "print(execution_time)"
   ]
  },
  {
   "cell_type": "markdown",
   "id": "b03e7ccb",
   "metadata": {},
   "source": [
    "### Initialisation of initial points "
   ]
  },
  {
   "cell_type": "markdown",
   "id": "c1a41bac",
   "metadata": {},
   "source": [
    "## Test if low rank approximation improves the computational time"
   ]
  },
  {
   "cell_type": "code",
   "execution_count": 6,
   "id": "35de34f0",
   "metadata": {},
   "outputs": [],
   "source": [
    "A=np.random.rand(100**2,100**2)\n",
    "A=A*10000"
   ]
  },
  {
   "cell_type": "code",
   "execution_count": 7,
   "id": "61861f30",
   "metadata": {},
   "outputs": [
    {
     "data": {
      "text/plain": [
       "10000"
      ]
     },
     "execution_count": 7,
     "metadata": {},
     "output_type": "execute_result"
    }
   ],
   "source": [
    "np.linalg.matrix_rank(A, tol=None, hermitian=False)"
   ]
  },
  {
   "cell_type": "code",
   "execution_count": 8,
   "id": "2034b8c3",
   "metadata": {},
   "outputs": [],
   "source": [
    "ones=np.ones(100**2)"
   ]
  },
  {
   "cell_type": "code",
   "execution_count": 9,
   "id": "e364616c",
   "metadata": {},
   "outputs": [],
   "source": [
    "start_time=time.time()\n",
    "B=A@ones\n",
    "end=time.time()-start_time"
   ]
  },
  {
   "cell_type": "code",
   "execution_count": 10,
   "id": "bd1a8344",
   "metadata": {},
   "outputs": [
    {
     "data": {
      "text/plain": [
       "0.042523860931396484"
      ]
     },
     "execution_count": 10,
     "metadata": {},
     "output_type": "execute_result"
    }
   ],
   "source": [
    "end"
   ]
  },
  {
   "cell_type": "code",
   "execution_count": 11,
   "id": "8e517c10",
   "metadata": {},
   "outputs": [],
   "source": [
    "svd=TruncatedSVD(500)\n",
    "US=svd.fit_transform(A) \n",
    "V=svd.components_\n",
    "start=time.time()\n",
    "US@(V@ones)\n",
    "end=time.time()-start"
   ]
  },
  {
   "cell_type": "code",
   "execution_count": 12,
   "id": "c8061235",
   "metadata": {},
   "outputs": [
    {
     "data": {
      "text/plain": [
       "0.0067861080169677734"
      ]
     },
     "execution_count": 12,
     "metadata": {},
     "output_type": "execute_result"
    }
   ],
   "source": [
    "end"
   ]
  },
  {
   "cell_type": "markdown",
   "id": "4f9fecf4",
   "metadata": {},
   "source": [
    "It does really work !!!"
   ]
  },
  {
   "cell_type": "markdown",
   "id": "cd93277e",
   "metadata": {},
   "source": [
    "### Sinkhorn where the rank of the rank approximation varies"
   ]
  },
  {
   "cell_type": "code",
   "execution_count": 13,
   "id": "583474db",
   "metadata": {},
   "outputs": [],
   "source": [
    "# Points:\n",
    "#n=100**2 #original number of datapoints, chose a lower one for runntime reasons \n",
    "n=100\n",
    "x = np.linspace(0,1,n)\n",
    "y = np.linspace(0,1,n)\n",
    "x=x[:,np.newaxis]\n",
    "y=y[:,np.newaxis]\n",
    "# Cost:\n",
    "C = (x-y.T)**2\n",
    "# entropy factor:\n",
    "eta = 1 # il manque W <- W/eta dans l'algo alors garder eta=1\n",
    "# (exact) Kernel:\n",
    "Kmat = np.exp(-eta*C)\n",
    "#def K(v):  -----------#I have put them in comments since I won't use them \n",
    "#    return Kmat@v\n",
    "#def Kt(v):\n",
    "#    return (Kmat.T)@v\n",
    "# Target marginals:\n",
    "p = np.ones((n,1))\n",
    "p = p / np.sum(p)\n",
    "q = np.ones((n,1))\n",
    "q = q / np.sum(q) \n",
    "# tolerance:\n",
    "delta = 1e-15"
   ]
  },
  {
   "cell_type": "code",
   "execution_count": 14,
   "id": "a7b57331",
   "metadata": {},
   "outputs": [],
   "source": [
    "rank_K=np.linalg.matrix_rank(Kmat, tol=None, hermitian=False)"
   ]
  },
  {
   "cell_type": "code",
   "execution_count": 15,
   "id": "3d14912c",
   "metadata": {},
   "outputs": [
    {
     "data": {
      "text/plain": [
       "10"
      ]
     },
     "execution_count": 15,
     "metadata": {},
     "output_type": "execute_result"
    }
   ],
   "source": [
    "rank_K"
   ]
  },
  {
   "cell_type": "code",
   "execution_count": 16,
   "id": "66568979",
   "metadata": {},
   "outputs": [],
   "source": [
    "list_error=[]\n",
    "list_time=[]\n",
    "for i in range(1, 100):\n",
    "    svd=TruncatedSVD(i)\n",
    "    US=svd.fit_transform(Kmat) \n",
    "    V=svd.components_\n",
    "    def K(v):\n",
    "        return US@(V@v)\n",
    "    def Kt(v):\n",
    "        return V.T@(US.T@v)\n",
    "    start_time=time.time()\n",
    "    [_,_,_,_,_,err]=sinkhorn(K,Kt,p,q,delta,maxtime=60)\n",
    "    execution_time=time.time()-start_time\n",
    "    list_error.append(err[-1])\n",
    "    list_time.append(execution_time)"
   ]
  },
  {
   "cell_type": "code",
   "execution_count": 17,
   "id": "1d30fe7f",
   "metadata": {},
   "outputs": [
    {
     "data": {
      "text/plain": [
       "[<matplotlib.lines.Line2D at 0x7fa8da8a3f70>]"
      ]
     },
     "execution_count": 17,
     "metadata": {},
     "output_type": "execute_result"
    },
    {
     "data": {
      "image/png": "[encoded data removed]",
      "text/plain": [
       "<Figure size 432x288 with 1 Axes>"
      ]
     },
     "metadata": {
      "needs_background": "light"
     },
     "output_type": "display_data"
    }
   ],
   "source": [
    "plt.plot(list_time, \".-\")"
   ]
  },
  {
   "cell_type": "code",
   "execution_count": 18,
   "id": "2324eb50",
   "metadata": {},
   "outputs": [
    {
     "data": {
      "text/plain": [
       "[<matplotlib.lines.Line2D at 0x7fa8daaab490>]"
      ]
     },
     "execution_count": 18,
     "metadata": {},
     "output_type": "execute_result"
    },
    {
     "data": {
      "image/png": "[encoded data removed]",
      "text/plain": [
       "<Figure size 432x288 with 1 Axes>"
      ]
     },
     "metadata": {
      "needs_background": "light"
     },
     "output_type": "display_data"
    }
   ],
   "source": [
    "plt.plot(list_error, \".-\")"
   ]
  },
  {
   "cell_type": "code",
   "execution_count": null,
   "id": "67c96456",
   "metadata": {},
   "outputs": [],
   "source": []
  }
 ],
 "metadata": {
  "kernelspec": {
   "display_name": "Python 3 (ipykernel)",
   "language": "python",
   "name": "python3"
  },
  "language_info": {
   "codemirror_mode": {
    "name": "ipython",
    "version": 3
   },
   "file_extension": ".py",
   "mimetype": "text/x-python",
   "name": "python",
   "nbconvert_exporter": "python",
   "pygments_lexer": "ipython3",
   "version": "3.8.13"
  },
  "vscode": {
   "interpreter": {
    "hash": "233a531365d7bd5abb8382eb032c18c305e1c6b951add6f6a5c925475bc609cb"
   }
  }
 },
 "nbformat": 4,
 "nbformat_minor": 5
}
