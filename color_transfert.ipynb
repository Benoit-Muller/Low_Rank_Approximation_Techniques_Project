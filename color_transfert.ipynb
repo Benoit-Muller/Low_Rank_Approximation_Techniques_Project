{
 "cells": [
  {
   "cell_type": "markdown",
   "metadata": {},
   "source": [
    "# Color transfert\n",
    "In this notebook, we show how to use `Sinkhorn.py` to resolve entropy-regularized optimal tranport and apply it to color transfert:\n",
    "- Initialization of variables \n",
    "    - optimal transport: images, marginals, costs, parameters\n",
    "    - Sinkhorn projection: kernel, parameters\n",
    "- Computations\n",
    "    - Sinkorn projection\n",
    "    - optimal coupling\n",
    "    - resulting images\n",
    "- display the results"
   ]
  }
 ],
 "metadata": {
  "kernelspec": {
   "display_name": "Python 3.9.12 ('base')",
   "language": "python",
   "name": "python3"
  },
  "language_info": {
   "name": "python",
   "version": "3.9.12"
  },
  "orig_nbformat": 4,
  "vscode": {
   "interpreter": {
    "hash": "233a531365d7bd5abb8382eb032c18c305e1c6b951add6f6a5c925475bc609cb"
   }
  }
 },
 "nbformat": 4,
 "nbformat_minor": 2
}
